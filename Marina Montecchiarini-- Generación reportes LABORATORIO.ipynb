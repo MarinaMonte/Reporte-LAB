{
 "cells": [
  {
   "cell_type": "markdown",
   "metadata": {
    "slideshow": {
     "slide_type": "slide"
    }
   },
   "source": [
    "<h1><center>Exportación de datos usando Python</center></h1> \n",
    "<h2><center>Autor: Marina Montecchiarini</center></h2>\n"
   ]
  },
  {
   "cell_type": "code",
   "execution_count": null,
   "metadata": {
    "collapsed": true
   },
   "outputs": [],
   "source": []
  },
  {
   "cell_type": "markdown",
   "metadata": {
    "slideshow": {
     "slide_type": "subslide"
    }
   },
   "source": [
    "## Proceso\n",
    "\n",
    "- Se armó un prototipo de archivo de Excel, llamado \"Datos experimentos LAB\", en el cual se insertaron resultados ficticios de un laboratorio. Cada vez que se hace el experimento se arma una solapa nueva en ese archivo y ciertas celdas de Excel se modifican para ingresar los nuevos datos del experimento.\n",
    "- En base a este archivo se desea armar uno nuevo: \"Resultados LAB\" para poder analizar los resultados. Idealmente ese se debería actualizar cada semana con los nuevos resultados obtenidos.\n",
    "- Se trabaja con Pandas y con openpyxl.\n",
    "\n"
   ]
  },
  {
   "cell_type": "code",
   "execution_count": 1,
   "metadata": {
    "slideshow": {
     "slide_type": "subslide"
    }
   },
   "outputs": [
    {
     "name": "stdout",
     "output_type": "stream",
     "text": [
      "Requirement already satisfied: pandas in c:\\users\\marina\\appdata\\local\\programs\\python\\python38\\lib\\site-packages (1.2.4)\n",
      "Collecting openpyxl\n",
      "  Downloading openpyxl-3.1.3-py2.py3-none-any.whl (251 kB)\n",
      "Requirement already satisfied: pytz>=2017.3 in c:\\users\\marina\\appdata\\local\\programs\\python\\python38\\lib\\site-packages (from pandas) (2021.1)\n",
      "Requirement already satisfied: python-dateutil>=2.7.3 in c:\\users\\marina\\appdata\\local\\programs\\python\\python38\\lib\\site-packages (from pandas) (2.8.1)\n",
      "Requirement already satisfied: numpy>=1.16.5 in c:\\users\\marina\\appdata\\local\\programs\\python\\python38\\lib\\site-packages (from pandas) (1.20.2)\n",
      "Requirement already satisfied: six>=1.5 in c:\\users\\marina\\appdata\\local\\programs\\python\\python38\\lib\\site-packages (from python-dateutil>=2.7.3->pandas) (1.16.0)\n",
      "Collecting et-xmlfile\n",
      "  Downloading et_xmlfile-1.1.0-py3-none-any.whl (4.7 kB)\n",
      "Installing collected packages: et-xmlfile, openpyxl\n",
      "Successfully installed et-xmlfile-1.1.0 openpyxl-3.1.3\n",
      "Note: you may need to restart the kernel to use updated packages.\n"
     ]
    },
    {
     "name": "stderr",
     "output_type": "stream",
     "text": [
      "WARNING: You are using pip version 21.1.2; however, version 24.0 is available.\n",
      "You should consider upgrading via the 'c:\\users\\marina\\appdata\\local\\programs\\python\\python38\\python.exe -m pip install --upgrade pip' command.\n"
     ]
    }
   ],
   "source": [
    "pip install pandas openpyxl\n"
   ]
  },
  {
   "cell_type": "code",
   "execution_count": 14,
   "metadata": {
    "slideshow": {
     "slide_type": "subslide"
    }
   },
   "outputs": [
    {
     "name": "stdout",
     "output_type": "stream",
     "text": [
      "       Fecha Tecnico  Temperatura      Hora  Valor Obtenido         Equipo  \\\n",
      "0 2022-01-05  BB, BB           37  12:00:00            1.00  Laboratorio X   \n",
      "1 2023-07-28  AA, AA           39  12:10:00            1.01  Laboratorio X   \n",
      "2 2022-11-03  AA, AA           37  12:00:00            1.03  Laboratorio H   \n",
      "3 2023-06-03  AA, AA           39  12:00:00            1.00  Laboratorio X   \n",
      "4 2023-11-16  BB, BB           39  12:05:00            1.00  Laboratorio X   \n",
      "\n",
      "           Observacion  \n",
      "0        color extraño  \n",
      "1  mucha contaminación  \n",
      "2    sin observaciones  \n",
      "3    sin observaciones  \n",
      "4        color extraño  \n"
     ]
    }
   ],
   "source": [
    "\n",
    "\n",
    "import pandas as pd\n",
    "import matplotlib.pyplot as plt\n",
    "from openpyxl import load_workbook\n",
    "from openpyxl.drawing.image import Image\n",
    "\n",
    "def read_and_extract_data(file_path, sheet_name):\n",
    "    # Leer la hoja de Excel\n",
    "    df = pd.read_excel(file_path, sheet_name=sheet_name, header=None)\n",
    "    \n",
    "    # Extraer los datos específicos\n",
    "    fecha = df.iat[0, 1]          # B1\n",
    "    tecnico = df.iat[0, 5]        # F1\n",
    "    temperatura = df.iat[6, 3]    # D7\n",
    "    hora = df.iat[16, 1]          # B17\n",
    "    valor_obtenido = df.iat[16, 2] # C17\n",
    "    equipo = df.iat[11, 6]        # G12\n",
    "    observacion = df.iat[25, 1]   # B26\n",
    "    \n",
    "    # Crear un diccionario con los datos extraídos\n",
    "    data = {\n",
    "        'Fecha': fecha,\n",
    "        'Tecnico': tecnico,\n",
    "        'Temperatura': temperatura,\n",
    "        'Hora': hora,\n",
    "        'Valor Obtenido': valor_obtenido,\n",
    "        'Equipo': equipo,\n",
    "        'Observacion': observacion\n",
    "    }\n",
    "    \n",
    "    return data\n",
    "\n",
    "def combine_sheets(file_path):\n",
    "    # Leer el archivo de Excel\n",
    "    xls = pd.ExcelFile(file_path)\n",
    "    \n",
    "    # Lista para almacenar los datos extraídos de cada hoja\n",
    "    data_list = []\n",
    "    \n",
    "    # Iterar sobre los nombres de las hojas\n",
    "    for sheet_name in xls.sheet_names:\n",
    "        data = read_and_extract_data(file_path, sheet_name)\n",
    "        data_list.append(data)\n",
    "    \n",
    "    # Crear un DataFrame con los datos combinados\n",
    "    combined_df = pd.DataFrame(data_list)\n",
    "    \n",
    "    return combined_df\n",
    "\n",
    "def create_plot(df, output_image_path):\n",
    "    # Crear el gráfico\n",
    "    plt.figure(figsize=(10, 6))\n",
    "    plt.scatter(df['Fecha'], df['Valor Obtenido'], color='black')  # Gráfico de puntos en color negro\n",
    "    plt.xlabel('Fecha')\n",
    "    plt.ylabel('Valor Obtenido')\n",
    "    plt.title('Valores Obtenidos vs Fecha')\n",
    "    plt.grid(True)\n",
    "    plt.xticks(rotation=45)\n",
    "    plt.tight_layout()\n",
    "    \n",
    "    # Guardar el gráfico como imagen\n",
    "    plt.savefig(output_image_path)\n",
    "    plt.close()\n",
    "\n",
    "def insert_image_into_excel(excel_file_path, image_path):\n",
    "    # Cargar el archivo de Excel\n",
    "    wb = load_workbook(excel_file_path)\n",
    "    \n",
    "    # Crear una nueva hoja para el gráfico\n",
    "    if 'Grafico' not in wb.sheetnames:\n",
    "        ws = wb.create_sheet(title='Grafico')\n",
    "    else:\n",
    "        ws = wb['Grafico']\n",
    "    \n",
    "    # Insertar la imagen en la nueva hoja\n",
    "    img = Image(image_path)\n",
    "    ws.add_image(img, 'A1')\n",
    "    \n",
    "    # Guardar el archivo de Excel\n",
    "    wb.save(excel_file_path)\n",
    "\n",
    "def main():\n",
    "    # Ruta del archivo de Excel de origen\n",
    "    input_file_path = 'C:/Users/Marina/Portfolio/Datos experimentos LAB.xlsx'\n",
    "    \n",
    "    # Combinar las hojas\n",
    "    combined_df = combine_sheets(input_file_path)\n",
    "    \n",
    "    # Mostrar las primeras filas del DataFrame combinado\n",
    "    print(combined_df.head())\n",
    "    \n",
    "    # Guardar el DataFrame combinado en un nuevo archivo de Excel\n",
    "    output_file_path = 'C:/Users/Marina/Portfolio/Resultados LAB.xlsx'\n",
    "    combined_df.to_excel(output_file_path, index=False)\n",
    "    \n",
    "    # Crear y guardar el gráfico\n",
    "    output_image_path = 'grafico_valores_obtenidos_vs_fecha.png'\n",
    "    create_plot(combined_df, output_image_path)\n",
    "    \n",
    "    # Insertar el gráfico en el archivo de Excel\n",
    "    insert_image_into_excel(output_file_path, output_image_path)\n",
    "\n",
    "if __name__ == \"__main__\":\n",
    "    main()"
   ]
  },
  {
   "cell_type": "markdown",
   "metadata": {
    "slideshow": {
     "slide_type": "subslide"
    }
   },
   "source": []
  },
  {
   "cell_type": "code",
   "execution_count": 2,
   "metadata": {
    "ExecuteTime": {
     "end_time": "2021-05-04T22:03:21.995539Z",
     "start_time": "2021-05-04T22:03:21.982545Z"
    },
    "slideshow": {
     "slide_type": "skip"
    }
   },
   "outputs": [],
   "source": []
  },
  {
   "cell_type": "code",
   "execution_count": 6,
   "metadata": {
    "ExecuteTime": {
     "end_time": "2021-05-04T22:03:38.816412Z",
     "start_time": "2021-05-04T22:03:38.803414Z"
    },
    "slideshow": {
     "slide_type": "subslide"
    }
   },
   "outputs": [
    {
     "data": {
      "text/html": [
       "\n",
       "        <iframe\n",
       "            width=\"1280\"\n",
       "            height=\"720\"\n",
       "            src=\"https://www.youtube.com/embed/pKPaHH7hnv8\"\n",
       "            frameborder=\"0\"\n",
       "            allowfullscreen\n",
       "        ></iframe>\n",
       "        "
      ],
      "text/plain": [
       "<IPython.lib.display.IFrame at 0x22d94a85220>"
      ]
     },
     "execution_count": 6,
     "metadata": {},
     "output_type": "execute_result"
    }
   ],
   "source": []
  }
 ],
 "metadata": {
  "celltoolbar": "Slideshow",
  "kernelspec": {
   "display_name": "Python 3",
   "language": "python",
   "name": "python3"
  },
  "language_info": {
   "codemirror_mode": {
    "name": "ipython",
    "version": 3
   },
   "file_extension": ".py",
   "mimetype": "text/x-python",
   "name": "python",
   "nbconvert_exporter": "python",
   "pygments_lexer": "ipython3",
   "version": "3.8.10"
  }
 },
 "nbformat": 4,
 "nbformat_minor": 4
}
